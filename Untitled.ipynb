{
  "nbformat": 4,
  "nbformat_minor": 0,
  "metadata": {
    "colab": {
      "name": "Untitled",
      "provenance": [],
      "authorship_tag": "ABX9TyNdFFNcC7aDmmb2x65PTG7Z",
      "include_colab_link": true
    },
    "kernelspec": {
      "name": "python3",
      "display_name": "Python 3"
    }
  },
  "cells": [
    {
      "cell_type": "markdown",
      "metadata": {
        "id": "view-in-github",
        "colab_type": "text"
      },
      "source": [
        "<a href=\"https://colab.research.google.com/github/chedellasubbu/assignment/blob/master/Untitled.ipynb\" target=\"_parent\"><img src=\"https://colab.research.google.com/assets/colab-badge.svg\" alt=\"Open In Colab\"/></a>"
      ]
    },
    {
      "cell_type": "markdown",
      "metadata": {
        "id": "Z21wZw0PKPgg",
        "colab_type": "text"
      },
      "source": [
        " 1. Write a python program to print the following string in a specific format (see the output). Sample string :\"Twinkle,twinkle,little star,How i wonder what you are! Up above the world so high like a diomond in the sky .Twinkle,twinkle,little star,how i wonder what you are\""
      ]
    },
    {
      "cell_type": "code",
      "metadata": {
        "id": "liW3IrdKKXC7",
        "colab_type": "code",
        "colab": {
          "base_uri": "https://localhost:8080/",
          "height": 139
        },
        "outputId": "1ff89f7a-b154-4de1-8273-db2b914cdce9"
      },
      "source": [
        " print(\"Twinkle, twinkle, little star, \\n\\tHow I wonder what you are! \\n\\t\\tUp above the world so high, \\n\\t\\tLike a diamond in the sky. \\nTwinkle, twinkle, little star, \\n\\tHow I wonder what you are\")"
      ],
      "execution_count": null,
      "outputs": [
        {
          "output_type": "stream",
          "text": [
            "Twinkle, twinkle, little star, \n",
            "\tHow I wonder what you are! \n",
            "\t\tUp above the world so high, \n",
            "\t\tLike a diamond in the sky. \n",
            "Twinkle, twinkle, little star, \n",
            "\tHow I wonder what you are\n"
          ],
          "name": "stdout"
        }
      ]
    },
    {
      "cell_type": "markdown",
      "metadata": {
        "id": "HUZCokadKh_4",
        "colab_type": "text"
      },
      "source": [
        " 2. Write a python program to test whether a number is within 100 of 1000 or 2000."
      ]
    },
    {
      "cell_type": "code",
      "metadata": {
        "id": "iW2_J9VUK7p_",
        "colab_type": "code",
        "colab": {
          "base_uri": "https://localhost:8080/",
          "height": 85
        },
        "outputId": "7714b331-d06a-4b61-db2c-dda45833a1bc"
      },
      "source": [
        " \n",
        "def near_thousand(n):\n",
        "      return ((abs(1000 - n) <= 100) or (abs(2000 - n) <= 100))\n",
        "print(near_thousand(1000))\n",
        "print(near_thousand(900))\n",
        "print(near_thousand(300))   \n",
        "print(near_thousand(2300))"
      ],
      "execution_count": null,
      "outputs": [
        {
          "output_type": "stream",
          "text": [
            "True\n",
            "True\n",
            "False\n",
            "False\n"
          ],
          "name": "stdout"
        }
      ]
    },
    {
      "cell_type": "markdown",
      "metadata": {
        "id": "okOHr6QWK_pP",
        "colab_type": "text"
      },
      "source": [
        " 3. Write a python program to calculate the sum of three given numbers,if the values are equal then return three of their sum."
      ]
    },
    {
      "cell_type": "code",
      "metadata": {
        "id": "6PD4mUJ0LH_K",
        "colab_type": "code",
        "colab": {
          "base_uri": "https://localhost:8080/",
          "height": 51
        },
        "outputId": "807e89a6-6db6-4ee4-a609-158c90b92fdc"
      },
      "source": [
        "def sum_thrice(x, y, z):\n",
        "     sum = x + y + z\n",
        "     if x == y == z:\n",
        "      sum = sum * 3\n",
        "     return sum\n",
        "print(sum_thrice(1, 2, 3))\n",
        "print(sum_thrice(1, 6, 2))"
      ],
      "execution_count": null,
      "outputs": [
        {
          "output_type": "stream",
          "text": [
            "6\n",
            "9\n"
          ],
          "name": "stdout"
        }
      ]
    },
    {
      "cell_type": "markdown",
      "metadata": {
        "id": "YsVC1f4FLLkh",
        "colab_type": "text"
      },
      "source": [
        " 4. Write a python program to find whatever a given number(accept from the user) is even or odd , print out an appropriate message to the user."
      ]
    },
    {
      "cell_type": "code",
      "metadata": {
        "id": "l86VN1C8LONS",
        "colab_type": "code",
        "colab": {
          "base_uri": "https://localhost:8080/",
          "height": 51
        },
        "outputId": "909e87c7-f913-4f1f-dd63-77575d0386ea"
      },
      "source": [
        " \n",
        "num = int(input(\"Enter a number: \"))\n",
        "mod = num % 2\n",
        "if mod > 0:\n",
        "    print(\"The given number is odd number.\")\n",
        "else:\n",
        "    print(\"the given number is even number.\")"
      ],
      "execution_count": null,
      "outputs": [
        {
          "output_type": "stream",
          "text": [
            "Enter a number: 10\n",
            "the given number is even number.\n"
          ],
          "name": "stdout"
        }
      ]
    },
    {
      "cell_type": "markdown",
      "metadata": {
        "id": "T0ucwCIVLeBw",
        "colab_type": "text"
      },
      "source": [
        " 5. Write a python program to get a string made of the first 2 and the last 2 chars from a given string .if the string length is less than 2,return instead of the empty string."
      ]
    },
    {
      "cell_type": "code",
      "metadata": {
        "id": "QgqU3VkpLqlE",
        "colab_type": "code",
        "colab": {
          "base_uri": "https://localhost:8080/",
          "height": 85
        },
        "outputId": "433b1219-64df-4b00-d1c5-1c41d6168ef9"
      },
      "source": [
        "def string_both_ends(str):\n",
        "  if len(str) < 2:\n",
        "    return ''\n",
        "  return str[0:2] + str[-2:]\n",
        "print(string_both_ends('subbu'))\n",
        "print(string_both_ends('sub'))\n",
        "print(string_both_ends('su'))\n",
        "print(string_both_ends('s'))"
      ],
      "execution_count": null,
      "outputs": [
        {
          "output_type": "stream",
          "text": [
            "subu\n",
            "suub\n",
            "susu\n",
            "\n"
          ],
          "name": "stdout"
        }
      ]
    },
    {
      "cell_type": "markdown",
      "metadata": {
        "id": "9BtswIB6NGvC",
        "colab_type": "text"
      },
      "source": [
        " 6. Write a python program to get a single string from two given strings ,seperated by a space and swap the first two characters of each strings."
      ]
    },
    {
      "cell_type": "code",
      "metadata": {
        "id": "ijq7g3NjNM0g",
        "colab_type": "code",
        "colab": {
          "base_uri": "https://localhost:8080/",
          "height": 34
        },
        "outputId": "d288c725-c8ff-417c-cd66-261ad1ec0578"
      },
      "source": [
        " \n",
        "def chars_mix_up(a, b):\n",
        "  new_a = b[:2] + a[2:]\n",
        "  new_b = a[:2] + b[2:]\n",
        " \n",
        "  return new_a + ' ' + new_b\n",
        "print(chars_mix_up('mom', 'dad'))"
      ],
      "execution_count": 8,
      "outputs": [
        {
          "output_type": "stream",
          "text": [
            "dam mod\n"
          ],
          "name": "stdout"
        }
      ]
    },
    {
      "cell_type": "markdown",
      "metadata": {
        "id": "2S22KUTfNlc5",
        "colab_type": "text"
      },
      "source": [
        " 7. Write a python program to find apperance of the substring 'not' and 'poor' from a given string ,if 'not' follows the 'poor',replace the whole 'not'...'poor' substring with 'good'."
      ]
    },
    {
      "cell_type": "code",
      "metadata": {
        "id": "LKUjzadSN3wU",
        "colab_type": "code",
        "colab": {
          "base_uri": "https://localhost:8080/",
          "height": 51
        },
        "outputId": "298c1dca-c6f4-4f08-f031-a5ec7852cb22"
      },
      "source": [
        " \n",
        "def not_poor(str1):\n",
        "  snot = str1.find('not')\n",
        "  spoor = str1.find('poor')\n",
        "  if spoor > snot and snot>0 and spoor>0:\n",
        "    str1 = str1.replace(str1[snot:(spoor+4)], 'good')\n",
        "    return str1\n",
        "  else:\n",
        "    return str1\n",
        "print(not_poor('The lyrics is not that poor!'))\n",
        "print(not_poor('The lyrics is poor!'))"
      ],
      "execution_count": 9,
      "outputs": [
        {
          "output_type": "stream",
          "text": [
            "The lyrics is good!\n",
            "The lyrics is poor!\n"
          ],
          "name": "stdout"
        }
      ]
    },
    {
      "cell_type": "markdown",
      "metadata": {
        "id": "IeQFiv3YODOG",
        "colab_type": "text"
      },
      "source": [
        " 8. Write a python program to reverse a string if its length is a multiple of 4."
      ]
    },
    {
      "cell_type": "code",
      "metadata": {
        "id": "EnflzObXONiY",
        "colab_type": "code",
        "colab": {
          "base_uri": "https://localhost:8080/",
          "height": 68
        },
        "outputId": "7ee11e94-8224-40f7-c4ab-f3a43ef994f5"
      },
      "source": [
        " \n",
        "def reverse_string(str1):\n",
        "    if len(str1) % 4 == 0:\n",
        "       return ''.join(reversed(str1))\n",
        "    return str1\n",
        "print(reverse_string('sub'))\n",
        "print(reverse_string('subbu'))\n",
        "print(reverse_string('c.subramanyeswar'))"
      ],
      "execution_count": 10,
      "outputs": [
        {
          "output_type": "stream",
          "text": [
            "sub\n",
            "subbu\n",
            "rawseynamarbus.c\n"
          ],
          "name": "stdout"
        }
      ]
    },
    {
      "cell_type": "markdown",
      "metadata": {
        "id": "GSL7JTzpOf2i",
        "colab_type": "text"
      },
      "source": [
        " 9. Write a python function to convert all units of time into seconds."
      ]
    },
    {
      "cell_type": "code",
      "metadata": {
        "id": "83ni8GuBOmth",
        "colab_type": "code",
        "colab": {
          "base_uri": "https://localhost:8080/",
          "height": 102
        },
        "outputId": "4e3321bd-9b81-42cd-d7d5-f451dc690604"
      },
      "source": [
        " \n",
        "days = int(input(\"Input days: \")) * 3600 * 24\n",
        "hours = int(input(\"Input hours: \")) * 3600\n",
        "minutes = int(input(\"Input minutes: \")) * 60\n",
        "seconds = int(input(\"Input seconds: \"))\n",
        "time = days + hours + minutes + seconds\n",
        "print(\"The total seconds is: \", time)"
      ],
      "execution_count": 11,
      "outputs": [
        {
          "output_type": "stream",
          "text": [
            "Input days: 360\n",
            "Input hours: 24\n",
            "Input minutes: 60\n",
            "Input seconds: 60\n",
            "The total seconds is:  31194060\n"
          ],
          "name": "stdout"
        }
      ]
    },
    {
      "cell_type": "markdown",
      "metadata": {
        "id": "nL0mbZGcOzDb",
        "colab_type": "text"
      },
      "source": [
        " 10. Write a python program to sort three integers without using conditional statements and loops."
      ]
    },
    {
      "cell_type": "code",
      "metadata": {
        "id": "vjUVfRHuO2PF",
        "colab_type": "code",
        "colab": {
          "base_uri": "https://localhost:8080/",
          "height": 85
        },
        "outputId": "7da01540-3691-4b85-e5d3-a50eb663a65c"
      },
      "source": [
        " \n",
        "x = int(input(\"Input first number: \"))\n",
        "y = int(input(\"Input second number: \"))\n",
        "z = int(input(\"Input third number: \"))\n",
        "a1 = min(x, y, z)\n",
        "a3 = max(x, y, z)\n",
        "a2 = (x + y + z) - a1 - a3\n",
        "print(\"Numbers in sorted order: \", a1, a2, a3)"
      ],
      "execution_count": 12,
      "outputs": [
        {
          "output_type": "stream",
          "text": [
            "Input first number: 1\n",
            "Input second number: 2\n",
            "Input third number: 3\n",
            "Numbers in sorted order:  1 2 3\n"
          ],
          "name": "stdout"
        }
      ]
    },
    {
      "cell_type": "markdown",
      "metadata": {
        "id": "mZBmgRnWPC2O",
        "colab_type": "text"
      },
      "source": [
        " 11. Write a python program to get the details of the math module."
      ]
    },
    {
      "cell_type": "code",
      "metadata": {
        "id": "8-G3ApcvPGHO",
        "colab_type": "code",
        "colab": {
          "base_uri": "https://localhost:8080/",
          "height": 54
        },
        "outputId": "aecc6b6e-fc1d-41c5-eba5-d91e7876c1aa"
      },
      "source": [
        " \n",
        "import math            \n",
        "math_ls = dir(math) \n",
        "print(math_ls)"
      ],
      "execution_count": 13,
      "outputs": [
        {
          "output_type": "stream",
          "text": [
            "['__doc__', '__loader__', '__name__', '__package__', '__spec__', 'acos', 'acosh', 'asin', 'asinh', 'atan', 'atan2', 'atanh', 'ceil', 'copysign', 'cos', 'cosh', 'degrees', 'e', 'erf', 'erfc', 'exp', 'expm1', 'fabs', 'factorial', 'floor', 'fmod', 'frexp', 'fsum', 'gamma', 'gcd', 'hypot', 'inf', 'isclose', 'isfinite', 'isinf', 'isnan', 'ldexp', 'lgamma', 'log', 'log10', 'log1p', 'log2', 'modf', 'nan', 'pi', 'pow', 'radians', 'sin', 'sinh', 'sqrt', 'tan', 'tanh', 'tau', 'trunc']\n"
          ],
          "name": "stdout"
        }
      ]
    },
    {
      "cell_type": "markdown",
      "metadata": {
        "id": "PhyFPCqFPKd3",
        "colab_type": "text"
      },
      "source": [
        " \n",
        "12. Write a python program to concatenate N strings."
      ]
    },
    {
      "cell_type": "code",
      "metadata": {
        "id": "Ux2FvBhDPTGm",
        "colab_type": "code",
        "colab": {
          "base_uri": "https://localhost:8080/",
          "height": 68
        },
        "outputId": "12dd4779-36f8-407a-aa30-7ae695ee8dca"
      },
      "source": [
        "list_of_colors = ['violet', 'indigo', 'blue']  \n",
        "colors = '-'.join(list_of_colors)\n",
        "print()\n",
        "print(\"All Colors: \"+colors)\n",
        "print()"
      ],
      "execution_count": 14,
      "outputs": [
        {
          "output_type": "stream",
          "text": [
            "\n",
            "All Colors: violet-indigo-blue\n",
            "\n"
          ],
          "name": "stdout"
        }
      ]
    }
  ]
}