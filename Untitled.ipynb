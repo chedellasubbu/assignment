{
  "nbformat": 4,
  "nbformat_minor": 0,
  "metadata": {
    "colab": {
      "name": "Untitled",
      "provenance": [],
      "authorship_tag": "ABX9TyOIdlyFYRZg7/Tw0TtSC1Lh",
      "include_colab_link": true
    },
    "kernelspec": {
      "name": "python3",
      "display_name": "Python 3"
    }
  },
  "cells": [
    {
      "cell_type": "markdown",
      "metadata": {
        "id": "view-in-github",
        "colab_type": "text"
      },
      "source": [
        "<a href=\"https://colab.research.google.com/github/chedellasubbu/assignment/blob/master/Untitled.ipynb\" target=\"_parent\"><img src=\"https://colab.research.google.com/assets/colab-badge.svg\" alt=\"Open In Colab\"/></a>"
      ]
    },
    {
      "cell_type": "code",
      "metadata": {
        "id": "Koit0WYpu1Yg",
        "colab_type": "code",
        "colab": {
          "base_uri": "https://localhost:8080/",
          "height": 68
        },
        "outputId": "dc605e35-1fd6-45ee-db82-bb595ffb5256"
      },
      "source": [
        "a=int(input('enter value of a:'))\n",
        "b=int(input('enter value of b:')) \n",
        "print('sum of a and b is :', a+b)"
      ],
      "execution_count": null,
      "outputs": [
        {
          "output_type": "stream",
          "text": [
            "enter value of a:20\n",
            "enter value of b:10\n",
            "sum of a and b is : 30\n"
          ],
          "name": "stdout"
        }
      ]
    },
    {
      "cell_type": "code",
      "metadata": {
        "id": "DsMGJUAUv3y8",
        "colab_type": "code",
        "colab": {
          "base_uri": "https://localhost:8080/",
          "height": 68
        },
        "outputId": "ac6abe2d-e40c-457c-8345-826b945c75e4"
      },
      "source": [
        "a=int(input('enter value of a:'))\n",
        "b=int(input('enter value of b:')) \n",
        "print('difference of a and b is :', a-b)"
      ],
      "execution_count": null,
      "outputs": [
        {
          "output_type": "stream",
          "text": [
            "enter value of a:20\n",
            "enter value of b:10\n",
            "difference of a and b is : 10\n"
          ],
          "name": "stdout"
        }
      ]
    },
    {
      "cell_type": "code",
      "metadata": {
        "id": "ZrujZ6UfwM3a",
        "colab_type": "code",
        "colab": {
          "base_uri": "https://localhost:8080/",
          "height": 68
        },
        "outputId": "ed214fc4-4ab4-47dd-dbc0-4194ed31f444"
      },
      "source": [
        "a=int(input('enter value of a:'))\n",
        "b=int(input('enter value of b:')) \n",
        "print('product of a and b is :', a*b)"
      ],
      "execution_count": null,
      "outputs": [
        {
          "output_type": "stream",
          "text": [
            "enter value of a:10\n",
            "enter value of b:5\n",
            "product of a and b is : 50\n"
          ],
          "name": "stdout"
        }
      ]
    },
    {
      "cell_type": "code",
      "metadata": {
        "id": "dL6umVACwY3y",
        "colab_type": "code",
        "colab": {
          "base_uri": "https://localhost:8080/",
          "height": 68
        },
        "outputId": "904a064a-2bf5-4b90-cdce-782786aaeb7a"
      },
      "source": [
        "a=int(input('enter value of a:'))\n",
        "b=int(input('enter value of b:')) \n",
        "print('coefficient is :', a/b)"
      ],
      "execution_count": null,
      "outputs": [
        {
          "output_type": "stream",
          "text": [
            "enter value of a:100\n",
            "enter value of b:200\n",
            "coefficient is : 0.5\n"
          ],
          "name": "stdout"
        }
      ]
    },
    {
      "cell_type": "code",
      "metadata": {
        "id": "yyJTlL_7wpYI",
        "colab_type": "code",
        "colab": {
          "base_uri": "https://localhost:8080/",
          "height": 68
        },
        "outputId": "2cc21709-c371-42ce-9b1c-40940912b90b"
      },
      "source": [
        "a=int(input('enter value of a:'))\n",
        "b=int(input('enter value of b:')) \n",
        "print('reminder is :', a%b)"
      ],
      "execution_count": null,
      "outputs": [
        {
          "output_type": "stream",
          "text": [
            "enter value of a:7\n",
            "enter value of b:2\n",
            "reminder is : 1\n"
          ],
          "name": "stdout"
        }
      ]
    },
    {
      "cell_type": "code",
      "metadata": {
        "id": "QKH-syR4w-ar",
        "colab_type": "code",
        "colab": {
          "base_uri": "https://localhost:8080/",
          "height": 68
        },
        "outputId": "1e6f75aa-5ae2-4e3c-ce8e-111a065caa6c"
      },
      "source": [
        "a=int(input('enter value of a:'))\n",
        "b=int(input('enter value of b:')) \n",
        "print('a power b is :', a**b)"
      ],
      "execution_count": null,
      "outputs": [
        {
          "output_type": "stream",
          "text": [
            "enter value of a:5\n",
            "enter value of b:2\n",
            "a power b is : 25\n"
          ],
          "name": "stdout"
        }
      ]
    },
    {
      "cell_type": "code",
      "metadata": {
        "id": "LxO-RGsfxSxH",
        "colab_type": "code",
        "colab": {
          "base_uri": "https://localhost:8080/",
          "height": 68
        },
        "outputId": "abdf696d-5e3b-42a8-8c3f-3cb03117e7a9"
      },
      "source": [
        "a=int(input('enter value of a:'))\n",
        "b=int(input('enter value of b:')) \n",
        "print('floor division is :', a//b)"
      ],
      "execution_count": null,
      "outputs": [
        {
          "output_type": "stream",
          "text": [
            "enter value of a:20\n",
            "enter value of b:6\n",
            "floor division is : 3\n"
          ],
          "name": "stdout"
        }
      ]
    },
    {
      "cell_type": "markdown",
      "metadata": {
        "id": "9kMbL-cKxjSm",
        "colab_type": "text"
      },
      "source": [
        "Question 2"
      ]
    },
    {
      "cell_type": "markdown",
      "metadata": {
        "id": "0ovx2psQxm7x",
        "colab_type": "text"
      },
      "source": [
        "Write a python program to calculate simple interest"
      ]
    },
    {
      "cell_type": "code",
      "metadata": {
        "id": "GSPzaYS7xvd6",
        "colab_type": "code",
        "colab": {
          "base_uri": "https://localhost:8080/",
          "height": 85
        },
        "outputId": "49087083-6de1-41c8-a6f2-c40af5097334"
      },
      "source": [
        "P=int(input('enter value of p:')) \n",
        "T=int(input('enter value of T:')) \n",
        "R=int(input('enter value of R:')) \n",
        "print('simple interest is:', ((P*T*R)/100))"
      ],
      "execution_count": null,
      "outputs": [
        {
          "output_type": "stream",
          "text": [
            "enter value of p:1\n",
            "enter value of T:2\n",
            "enter value of R:3\n",
            "simple interest is: 0.06\n"
          ],
          "name": "stdout"
        }
      ]
    },
    {
      "cell_type": "markdown",
      "metadata": {
        "id": "uIsxpVxTyc0y",
        "colab_type": "text"
      },
      "source": [
        "Question 3"
      ]
    },
    {
      "cell_type": "markdown",
      "metadata": {
        "id": "QtQ8qJsZyfBV",
        "colab_type": "text"
      },
      "source": [
        "Write a program to calculate area of circle"
      ]
    },
    {
      "cell_type": "code",
      "metadata": {
        "id": "OVi7r6cqyk0g",
        "colab_type": "code",
        "colab": {
          "base_uri": "https://localhost:8080/",
          "height": 51
        },
        "outputId": "7b6daa6a-ff97-4369-a02f-0a3e22e2f47e"
      },
      "source": [
        "r=int(input('enter value of radius:')) \n",
        "print('Area of circle is:',(3.14*r*r))"
      ],
      "execution_count": null,
      "outputs": [
        {
          "output_type": "stream",
          "text": [
            "enter value of radius:10\n",
            "Area of circle is: 314.0\n"
          ],
          "name": "stdout"
        }
      ]
    },
    {
      "cell_type": "markdown",
      "metadata": {
        "id": "2cV7HH-8y9dg",
        "colab_type": "text"
      },
      "source": [
        "Question 4"
      ]
    },
    {
      "cell_type": "markdown",
      "metadata": {
        "id": "lmg4gHdiy-x8",
        "colab_type": "text"
      },
      "source": [
        "Write a program to calculate area of triangle"
      ]
    },
    {
      "cell_type": "code",
      "metadata": {
        "id": "Hg7mjRSZzErX",
        "colab_type": "code",
        "colab": {
          "base_uri": "https://localhost:8080/",
          "height": 34
        },
        "outputId": "665fc721-0d8a-48ea-ef27-7e1752d37d0b"
      },
      "source": [
        "S1=2\n",
        "S2=3\n",
        "S3=2\n",
        "print('area of triangle:', (S1*S2*S3))"
      ],
      "execution_count": null,
      "outputs": [
        {
          "output_type": "stream",
          "text": [
            "area of triangle: 12\n"
          ],
          "name": "stdout"
        }
      ]
    },
    {
      "cell_type": "markdown",
      "metadata": {
        "id": "dIqqoBVJzXGu",
        "colab_type": "text"
      },
      "source": [
        "Question 5"
      ]
    },
    {
      "cell_type": "markdown",
      "metadata": {
        "id": "iKep0-pAzYuN",
        "colab_type": "text"
      },
      "source": [
        "Write a python program to convert temperature in celsius to Fahrenheit"
      ]
    },
    {
      "cell_type": "code",
      "metadata": {
        "id": "HouncjMyzh_Y",
        "colab_type": "code",
        "colab": {
          "base_uri": "https://localhost:8080/",
          "height": 34
        },
        "outputId": "e216fb0f-27d4-4920-b14f-df7914a3835e"
      },
      "source": [
        "c=37\n",
        "print('temperature in Fahrenheit is:',(1.0990))"
      ],
      "execution_count": null,
      "outputs": [
        {
          "output_type": "stream",
          "text": [
            "temperature in Fahrenheit is: 1.099\n"
          ],
          "name": "stdout"
        }
      ]
    },
    {
      "cell_type": "markdown",
      "metadata": {
        "id": "DHKedG_Rz6TM",
        "colab_type": "text"
      },
      "source": [
        " Question 6"
      ]
    },
    {
      "cell_type": "markdown",
      "metadata": {
        "id": "YxS6LW2Nz76h",
        "colab_type": "text"
      },
      "source": [
        "Write a python program to calculate area of rectangle"
      ]
    },
    {
      "cell_type": "code",
      "metadata": {
        "id": "yq2SNaZ60AfL",
        "colab_type": "code",
        "colab": {
          "base_uri": "https://localhost:8080/",
          "height": 34
        },
        "outputId": "859b925c-3be2-4cdb-a5d9-b7841efa7809"
      },
      "source": [
        "l=5\n",
        "b=5\n",
        "print('area of rectangle:', (l*b))"
      ],
      "execution_count": null,
      "outputs": [
        {
          "output_type": "stream",
          "text": [
            "area of rectangle: 25\n"
          ],
          "name": "stdout"
        }
      ]
    },
    {
      "cell_type": "markdown",
      "metadata": {
        "id": "GoRPNazW0gWD",
        "colab_type": "text"
      },
      "source": [
        "Question 7"
      ]
    },
    {
      "cell_type": "markdown",
      "metadata": {
        "id": "i31aAzFZ0iLD",
        "colab_type": "text"
      },
      "source": [
        " Write a python program to calculate perimeter of square"
      ]
    },
    {
      "cell_type": "code",
      "metadata": {
        "id": "rxGZT_e10kAC",
        "colab_type": "code",
        "colab": {
          "base_uri": "https://localhost:8080/",
          "height": 34
        },
        "outputId": "a26fa229-9b1d-42d1-f1d4-af8a4d6b93c3"
      },
      "source": [
        "Side=2\n",
        "print('perimeter of square:', (4*Side))"
      ],
      "execution_count": null,
      "outputs": [
        {
          "output_type": "stream",
          "text": [
            "perimeter of square: 8\n"
          ],
          "name": "stdout"
        }
      ]
    },
    {
      "cell_type": "markdown",
      "metadata": {
        "id": "PyJ0ZEmz0y4W",
        "colab_type": "text"
      },
      "source": [
        "Question 8"
      ]
    },
    {
      "cell_type": "markdown",
      "metadata": {
        "id": "wfLFIpf400To",
        "colab_type": "text"
      },
      "source": [
        "Write a python program to calculate circumference of circle"
      ]
    },
    {
      "cell_type": "code",
      "metadata": {
        "id": "7x1Nyd1p083m",
        "colab_type": "code",
        "colab": {
          "base_uri": "https://localhost:8080/",
          "height": 51
        },
        "outputId": "40a3607a-42ee-45aa-9e4e-2316f6b4653d"
      },
      "source": [
        "r=int(input('value of radius:')) \n",
        "print('circumference of circle :', 2*3.14*r)"
      ],
      "execution_count": null,
      "outputs": [
        {
          "output_type": "stream",
          "text": [
            "value of radius:2\n",
            "circumference of circle : 12.56\n"
          ],
          "name": "stdout"
        }
      ]
    },
    {
      "cell_type": "markdown",
      "metadata": {
        "id": "XVKP49NI1S5h",
        "colab_type": "text"
      },
      "source": [
        "Question 9"
      ]
    },
    {
      "cell_type": "markdown",
      "metadata": {
        "id": "XjPZ7Sdz1T6f",
        "colab_type": "text"
      },
      "source": [
        "Write a python program to swap two numbers"
      ]
    },
    {
      "cell_type": "code",
      "metadata": {
        "id": "6zcRxqnR1Xhc",
        "colab_type": "code",
        "colab": {
          "base_uri": "https://localhost:8080/",
          "height": 51
        },
        "outputId": "ceed0b22-152f-4919-8df6-f889cedff4ff"
      },
      "source": [
        "a=5\n",
        "b=10\n",
        "a=a+b\n",
        "b=a-b\n",
        "a=a-b\n",
        "print('value of a after swapping:', a) \n",
        "print('value of b after swapping:', b)"
      ],
      "execution_count": null,
      "outputs": [
        {
          "output_type": "stream",
          "text": [
            "value of a after swapping: 10\n",
            "value of b after swapping: 5\n"
          ],
          "name": "stdout"
        }
      ]
    }
  ]
}