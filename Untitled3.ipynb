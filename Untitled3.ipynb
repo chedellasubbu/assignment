{
  "nbformat": 4,
  "nbformat_minor": 0,
  "metadata": {
    "colab": {
      "name": "Untitled3.ipynb",
      "provenance": [],
      "authorship_tag": "ABX9TyPiM19mDhKAM9dr/X8JqJkW",
      "include_colab_link": true
    },
    "kernelspec": {
      "name": "python3",
      "display_name": "Python 3"
    }
  },
  "cells": [
    {
      "cell_type": "markdown",
      "metadata": {
        "id": "view-in-github",
        "colab_type": "text"
      },
      "source": [
        "<a href=\"https://colab.research.google.com/github/chedellasubbu/assignment/blob/master/Untitled3.ipynb\" target=\"_parent\"><img src=\"https://colab.research.google.com/assets/colab-badge.svg\" alt=\"Open In Colab\"/></a>"
      ]
    },
    {
      "cell_type": "code",
      "metadata": {
        "id": "Va9TMOkRyjtK",
        "colab_type": "code",
        "colab": {
          "base_uri": "https://localhost:8080/",
          "height": 51
        },
        "outputId": "3425e065-0dd6-4b17-935a-c79d9e54c73f"
      },
      "source": [
        " import math\n",
        "r=float(input(\"Enter the radius\"))\n",
        "area=math.pi*r*r\n",
        "print(area,\"The area is\")"
      ],
      "execution_count": 1,
      "outputs": [
        {
          "output_type": "stream",
          "text": [
            "Enter the radius6.8\n",
            "145.26724430199204 The area is\n"
          ],
          "name": "stdout"
        }
      ]
    },
    {
      "cell_type": "code",
      "metadata": {
        "id": "OnszQha2y0vf",
        "colab_type": "code",
        "colab": {
          "base_uri": "https://localhost:8080/",
          "height": 88
        },
        "outputId": "14efec5d-e278-44fb-803b-5064e32f852b"
      },
      "source": [
        "from math import tan, pi\n",
        "n_sides = int(input(\"Input number of sides: \"))\n",
        "s_length = float(input(\"Input the length of a side: \"))\n",
        "p_area = n_sides * (s_length ** 2) / (4 * tan(pi / n_sides))\n",
        "print(\"The area of the polygon is: \",p_area)"
      ],
      "execution_count": 2,
      "outputs": [
        {
          "output_type": "stream",
          "text": [
            "Input number of sides: 5\n",
            "Input the length of a side: 25\n",
            "The area of the polygon is:  1075.2983753681044\n"
          ],
          "name": "stdout"
        }
      ]
    },
    {
      "cell_type": "code",
      "metadata": {
        "id": "DuzoNpFEy92E",
        "colab_type": "code",
        "colab": {
          "base_uri": "https://localhost:8080/",
          "height": 34
        },
        "outputId": "3d97b11d-4a71-4bdf-9f61-b6668482f5ed"
      },
      "source": [
        " import random\n",
        " \n",
        "print(random.randint(1,100))"
      ],
      "execution_count": 3,
      "outputs": [
        {
          "output_type": "stream",
          "text": [
            "23\n"
          ],
          "name": "stdout"
        }
      ]
    },
    {
      "cell_type": "code",
      "metadata": {
        "id": "wnYZGlAWzGIo",
        "colab_type": "code",
        "colab": {
          "base_uri": "https://localhost:8080/",
          "height": 136
        },
        "outputId": "a1761be4-7bbb-4421-cd34-bf8f508cd37a"
      },
      "source": [
        " import math\n",
        "print(\"sin 60\",math.sin(60))\n",
        "print(\"cos(pi)\",math.cos(pi))\n",
        "print(\"tap 90\",math.tan(90))\n",
        "print(\"5^8\",5**8)\n",
        "print(\"squrt 400\",math.sqrt(400))\n",
        "print(\"Floor\",math.floor(23.56))\n",
        "print(\"ceiling\",math.ceil(23.56))"
      ],
      "execution_count": 4,
      "outputs": [
        {
          "output_type": "stream",
          "text": [
            "sin 60 -0.3048106211022167\n",
            "cos(pi) -1.0\n",
            "tap 90 -1.995200412208242\n",
            "5^8 390625\n",
            "squrt 400 20.0\n",
            "Floor 23\n",
            "ceiling 24\n"
          ],
          "name": "stdout"
        }
      ]
    }
  ]
}