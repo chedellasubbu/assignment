{
  "nbformat": 4,
  "nbformat_minor": 0,
  "metadata": {
    "colab": {
      "name": "Untitled4.ipynb",
      "provenance": [],
      "authorship_tag": "ABX9TyP2srZ9N+LIRUU6ihnppXs8",
      "include_colab_link": true
    },
    "kernelspec": {
      "name": "python3",
      "display_name": "Python 3"
    }
  },
  "cells": [
    {
      "cell_type": "markdown",
      "metadata": {
        "id": "view-in-github",
        "colab_type": "text"
      },
      "source": [
        "<a href=\"https://colab.research.google.com/github/chedellasubbu/assignment/blob/master/Untitled4.ipynb\" target=\"_parent\"><img src=\"https://colab.research.google.com/assets/colab-badge.svg\" alt=\"Open In Colab\"/></a>"
      ]
    },
    {
      "cell_type": "markdown",
      "metadata": {
        "id": "dENFonBB3s85",
        "colab_type": "text"
      },
      "source": [
        " Python program to find the Max of three numbers."
      ]
    },
    {
      "cell_type": "code",
      "metadata": {
        "id": "I_UxLII43wKd",
        "colab_type": "code",
        "colab": {
          "base_uri": "https://localhost:8080/",
          "height": 34
        },
        "outputId": "7879269a-504d-419c-fdc6-f5417413af01"
      },
      "source": [
        " def max_of_two( x, y ):\n",
        "    if x > y:\n",
        "        return x\n",
        "    return y\n",
        "def max_of_three( x, y, z ):\n",
        "    return max_of_two( x, max_of_two( y, z ) )\n",
        "print(max_of_three(1, 2, -5))"
      ],
      "execution_count": 4,
      "outputs": [
        {
          "output_type": "stream",
          "text": [
            "2\n"
          ],
          "name": "stdout"
        }
      ]
    },
    {
      "cell_type": "markdown",
      "metadata": {
        "id": "2SISq0tF317j",
        "colab_type": "text"
      },
      "source": [
        "Python program to reverse a string."
      ]
    },
    {
      "cell_type": "code",
      "metadata": {
        "id": "a29h7fA_32kI",
        "colab_type": "code",
        "colab": {
          "base_uri": "https://localhost:8080/",
          "height": 51
        },
        "outputId": "123a9bdc-6d96-4896-f6b2-f56c7bc63a9f"
      },
      "source": [
        " s=str(input(\"Enter the string\"))\n",
        "print(s[::-1])"
      ],
      "execution_count": 5,
      "outputs": [
        {
          "output_type": "stream",
          "text": [
            "Enter the stringRinku\n",
            "ukniR\n"
          ],
          "name": "stdout"
        }
      ]
    },
    {
      "cell_type": "markdown",
      "metadata": {
        "id": "1NHXe_yF3_mV",
        "colab_type": "text"
      },
      "source": [
        " Python program to check if a number is prime or not"
      ]
    },
    {
      "cell_type": "code",
      "metadata": {
        "id": "hVoBsc4p4AcS",
        "colab_type": "code",
        "colab": {
          "base_uri": "https://localhost:8080/",
          "height": 68
        },
        "outputId": "a3cda50e-d4a0-4c5c-bc2b-05d9599a030b"
      },
      "source": [
        " num = int(input(\"Enter a number: \"))\n",
        "if num > 1:\n",
        "   for i in range(2,num):\n",
        "       if (num % i) == 0:\n",
        "           print(num,\"is not a prime number\")\n",
        "           print(i,\"times\",num//i,\"is\",num)\n",
        "           break\n",
        "   else:\n",
        "       print(num,\"is a prime number\")\n",
        "else:\n",
        "   print(num,\"is not a prime number\")"
      ],
      "execution_count": 6,
      "outputs": [
        {
          "output_type": "stream",
          "text": [
            "Enter a number: 6\n",
            "6 is not a prime number\n",
            "2 times 3 is 6\n"
          ],
          "name": "stdout"
        }
      ]
    },
    {
      "cell_type": "markdown",
      "metadata": {
        "id": "7qvr_0WY4JtK",
        "colab_type": "text"
      },
      "source": [
        "Python program to find sum of squares of first n natural numbers"
      ]
    },
    {
      "cell_type": "code",
      "metadata": {
        "id": "B6LtfUFd4KMr",
        "colab_type": "code",
        "colab": {
          "base_uri": "https://localhost:8080/",
          "height": 51
        },
        "outputId": "91d18633-d996-43fa-958f-6b8367111345"
      },
      "source": [
        " n=int(input(\"Enter the n value: \"))\n",
        "def sqsum(n) :\n",
        "   sm = 0\n",
        "   for i in range(1, n+1) :\n",
        "      sm = sm + pow(i,2)\n",
        "   return sm\n",
        "print(sqsum(n))"
      ],
      "execution_count": 7,
      "outputs": [
        {
          "output_type": "stream",
          "text": [
            "Enter the n value: 6\n",
            "91\n"
          ],
          "name": "stdout"
        }
      ]
    }
  ]
}